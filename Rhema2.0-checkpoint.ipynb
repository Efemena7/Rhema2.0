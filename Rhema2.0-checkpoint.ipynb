{
 "cells": [
  {
   "cell_type": "markdown",
   "id": "ecf83840",
   "metadata": {},
   "source": [
    "# Question 1"
   ]
  },
  {
   "cell_type": "code",
   "execution_count": null,
   "id": "57dd8f44",
   "metadata": {},
   "outputs": [],
   "source": [
    "print(\"Ozele Charles\")\n",
    "print(\"Department of Mathematics and Stastics\")\n",
    "print(\"University of Port Harcourt\")\n",
    "print(\"Fishfarm, Rumakini Rumosi\")\n",
    "print(\"Nigeria\")"
   ]
  },
  {
   "cell_type": "markdown",
   "id": "5ec4a3ba",
   "metadata": {},
   "source": [
    "# Question 2"
   ]
  },
  {
   "cell_type": "code",
   "execution_count": null,
   "id": "e6d71a85",
   "metadata": {},
   "outputs": [],
   "source": [
    "name=input(\"Enter Name: \")\n",
    "print(f\"Hello {name}\")"
   ]
  },
  {
   "cell_type": "markdown",
   "id": "0195db4d",
   "metadata": {},
   "source": [
    "# Question 3"
   ]
  },
  {
   "cell_type": "code",
   "execution_count": null,
   "id": "1b4334de",
   "metadata": {},
   "outputs": [],
   "source": [
    "width=float(input(\"Enter width of Room in meters: \"))\n",
    "length=float(input(\"Enter length of Room in meters: \"))\n",
    "area=round((width*length),2)\n",
    "print(f\"Area of the room:{area}sqm\")"
   ]
  },
  {
   "cell_type": "markdown",
   "id": "5e41c1be",
   "metadata": {},
   "source": [
    "# Question 4"
   ]
  },
  {
   "cell_type": "code",
   "execution_count": null,
   "id": "b9a57574",
   "metadata": {},
   "outputs": [],
   "source": [
    "width=float(input(\"Enter width of field in feet: \"))\n",
    "length=float(input(\"Enter length of field in feet: \"))\n",
    "area=width*length\n",
    "area_in_acre=round((area/43560),2)\n",
    "print(f\"Area of field: {area_in_acre}acre\")"
   ]
  },
  {
   "cell_type": "markdown",
   "id": "047d8f4c",
   "metadata": {},
   "source": [
    "# Question 5"
   ]
  },
  {
   "cell_type": "code",
   "execution_count": null,
   "id": "eded70d4",
   "metadata": {},
   "outputs": [],
   "source": [
    "container1=int(input(\"Enter number of containers holding one liter or less: \"))\n",
    "container2=int(input(\"Enter number of containers holding more than one liter: \"))\n",
    "refund=round((container1*0.10+container2*0.25),2)\n",
    "print(\"Thank you for your efforts towards keeping the enivorment clean\")\n",
    "print(f\"Refund:${refund}\")"
   ]
  },
  {
   "cell_type": "markdown",
   "id": "26f541ae",
   "metadata": {},
   "source": [
    "# Question 6"
   ]
  },
  {
   "cell_type": "code",
   "execution_count": null,
   "id": "231d851d",
   "metadata": {},
   "outputs": [],
   "source": [
    "cost_of_meal=float(input(\"Enter Cost of Meal: \"))\n",
    "tax=round(0.05*cost_of_meal,2)\n",
    "tip=round(0.18*cost_of_meal,2)\n",
    "grand_total=round((cost_of_meal+tax+tip),2)\n",
    "print(f\"Tax:{tax}\")\n",
    "print(f\"Tip:{tip}\")\n",
    "print(f\"Grand Total:{grand_total}\")"
   ]
  },
  {
   "cell_type": "markdown",
   "id": "81964c32",
   "metadata": {},
   "source": [
    "# Question 7"
   ]
  },
  {
   "cell_type": "code",
   "execution_count": null,
   "id": "26c7dd7f",
   "metadata": {},
   "outputs": [],
   "source": [
    "num=int(input(\"Enter a number: \"))\n",
    "if num<0:\n",
    "    print(\"Error!!\\nYou entered a negative integer\")\n",
    "else:\n",
    "    summ=(num*(num+1))/2\n",
    "    print(f\"The sum of all postive integers from 1 to {num}: {summ}\")"
   ]
  },
  {
   "cell_type": "markdown",
   "id": "1595a4f4",
   "metadata": {},
   "source": [
    "# Question 8"
   ]
  },
  {
   "cell_type": "code",
   "execution_count": null,
   "id": "691a0579",
   "metadata": {},
   "outputs": [],
   "source": [
    "no_widget=int(input(\"Enter number of Widgets: \"))\n",
    "no_gizmos=int(input(\"Enter number of Gizmos: \"))\n",
    "wid=no_widget*75\n",
    "giz=no_gizmos*112\n",
    "total_weight=wid+giz\n",
    "print(f\"Total Weight of the order: {total_weight}grams\")"
   ]
  },
  {
   "cell_type": "markdown",
   "id": "2b59881a",
   "metadata": {},
   "source": [
    "# Question 9"
   ]
  },
  {
   "cell_type": "code",
   "execution_count": null,
   "id": "77e1c8c5",
   "metadata": {},
   "outputs": [],
   "source": [
    "amount=float(input(\"Enter Amount\"))\n",
    "rate=0.04\n",
    "first_year=round((1+rate)*amount,2)\n",
    "second_year=round((1+rate)*first_year,2)\n",
    "third_year=round((1+rate)*second_year,2)\n",
    "print(f\"1st Year:{first_year}\")\n",
    "print(f\"2nd Year:{second_year}\")\n",
    "print(f\"3rd Year:{third_year}\")"
   ]
  },
  {
   "cell_type": "markdown",
   "id": "96e35886",
   "metadata": {},
   "source": [
    "# Question 10"
   ]
  },
  {
   "cell_type": "code",
   "execution_count": null,
   "id": "4e7d6497",
   "metadata": {},
   "outputs": [],
   "source": [
    "import math as mth"
   ]
  },
  {
   "cell_type": "code",
   "execution_count": null,
   "id": "29ff341b",
   "metadata": {},
   "outputs": [],
   "source": [
    "a=float(input(\"Enter number: \"))\n",
    "b=float(input(\"Enter number: \"))\n",
    "summ=a+b\n",
    "diff=a-b\n",
    "product=a*b\n",
    "quot=a//b\n",
    "rema=a%b\n",
    "log=mth.log10(a)\n",
    "power=a**b\n",
    "print(f\"sum:{summ}\")\n",
    "print(f\"Difference:{diff}\")\n",
    "print(f\"Product:{product}\")\n",
    "print(f\"Quotient:{quot}\")\n",
    "print(f\"Remainder:{rema}\")\n",
    "print(log)\n",
    "print(power)"
   ]
  },
  {
   "cell_type": "markdown",
   "id": "345f2e45",
   "metadata": {},
   "source": [
    "# Question 11"
   ]
  },
  {
   "cell_type": "code",
   "execution_count": null,
   "id": "0a094a87",
   "metadata": {},
   "outputs": [],
   "source": [
    "1mpg=235.215l/100km\n",
    "24=x"
   ]
  },
  {
   "cell_type": "code",
   "execution_count": null,
   "id": "257b7f93",
   "metadata": {},
   "outputs": [],
   "source": [
    "fuel=float(input(\"Enter distance in miles-per-gallon: \"))\n",
    "efficiency=fuel/235.215\n",
    "print(f\"Fuel Efficency: {efficiency}\")"
   ]
  },
  {
   "cell_type": "markdown",
   "id": "7ac45268",
   "metadata": {},
   "source": [
    "# Question 12"
   ]
  },
  {
   "cell_type": "code",
   "execution_count": 2,
   "id": "66414a96",
   "metadata": {},
   "outputs": [],
   "source": [
    "import math as mth"
   ]
  },
  {
   "cell_type": "code",
   "execution_count": null,
   "id": "1b2b575c",
   "metadata": {},
   "outputs": [],
   "source": [
    "mth.sin(56)"
   ]
  },
  {
   "cell_type": "code",
   "execution_count": 21,
   "id": "ec6777e3",
   "metadata": {},
   "outputs": [
    {
     "name": "stdout",
     "output_type": "stream",
     "text": [
      "Enter Latitude(t1) in degrees: 65\n",
      "Enter Latitude(g1) in degrees: 58\n",
      "Enter Longitude(t2) in degrees: 72\n",
      "Enter Longitude(g2) in degrees: 39\n",
      "4626.108726345458\n"
     ]
    }
   ],
   "source": [
    "lat1=float(input(\"Enter Latitude(t1) in degrees: \"))\n",
    "lat2=float(input(\"Enter Latitude(g1) in degrees: \"))\n",
    "long1=float(input(\"Enter Longitude(t2) in degrees: \"))\n",
    "long2=float(input(\"Enter Longitude(g2) in degrees: \"))\n",
    "distance=6371.01*mth.acos(mth.sin(lat1)*mth.sin(long1)+mth.cos(lat1)*mth.cos(long1)*mth.cos(lat2-long2))\n",
    "print(distance)"
   ]
  },
  {
   "cell_type": "code",
   "execution_count": null,
   "id": "4562bb47",
   "metadata": {},
   "outputs": [],
   "source": [
    "# Question 13"
   ]
  },
  {
   "cell_type": "code",
   "execution_count": null,
   "id": "0a78abd5",
   "metadata": {},
   "outputs": [],
   "source": [
    "1nickel=5cent\n",
    "1penny=1cent\n",
    "1 dime=10 cents\n",
    "1 quarter= 25 cents\n",
    "1 loonie= 100cent\n",
    "1 toonie=200cent"
   ]
  },
  {
   "cell_type": "code",
   "execution_count": 8,
   "id": "45ca60f4",
   "metadata": {},
   "outputs": [
    {
     "name": "stdout",
     "output_type": "stream",
     "text": [
      "Enter amount of cent: 85\n",
      "0\n",
      "\n",
      "85\n"
     ]
    }
   ],
   "source": [
    "change=int(input(\"Enter amount of cent: \"))\n",
    "change1=change//200\n",
    "change2=change%200\n",
    "if change2 >=100:\n",
    "    change2=change2//100\n",
    "    print(f\"{change1},{change2}\")\n",
    "elif change"
   ]
  },
  {
   "cell_type": "code",
   "execution_count": 26,
   "id": "bcb9d64e",
   "metadata": {},
   "outputs": [
    {
     "data": {
      "text/plain": [
       "5"
      ]
     },
     "execution_count": 26,
     "metadata": {},
     "output_type": "execute_result"
    }
   ],
   "source": [
    "105%100"
   ]
  },
  {
   "cell_type": "code",
   "execution_count": null,
   "id": "ebf96f38",
   "metadata": {},
   "outputs": [],
   "source": [
    "# Question 14"
   ]
  },
  {
   "cell_type": "code",
   "execution_count": 24,
   "id": "d080c47c",
   "metadata": {},
   "outputs": [
    {
     "name": "stdout",
     "output_type": "stream",
     "text": [
      "Enter number of Feet: 78\n",
      "Enter number of inches: 59\n",
      "78.0feet equivalent to 2377.44cm\n",
      "59.0inch equivalent to 149.86cm\n"
     ]
    }
   ],
   "source": [
    "feet=float(input(\"Enter number of Feet: \"))\n",
    "inch=float(input(\"Enter number of inches: \"))\n",
    "height_=feet*30.48\n",
    "height=inch*2.54\n",
    "print(f\"{feet}feet equivalent to {height_}cm\\n{inch}inch equivalent to {height}cm\")"
   ]
  },
  {
   "cell_type": "code",
   "execution_count": null,
   "id": "dc6c8f58",
   "metadata": {},
   "outputs": [],
   "source": [
    "1 inch=2.54cm\n",
    "12inch=x"
   ]
  },
  {
   "cell_type": "code",
   "execution_count": null,
   "id": "8d8d900a",
   "metadata": {},
   "outputs": [],
   "source": [
    "1f00t=30.48cm"
   ]
  },
  {
   "cell_type": "code",
   "execution_count": null,
   "id": "4be1ace0",
   "metadata": {},
   "outputs": [],
   "source": [
    "# Question 15"
   ]
  },
  {
   "cell_type": "code",
   "execution_count": 23,
   "id": "5ec024e5",
   "metadata": {},
   "outputs": [
    {
     "name": "stdout",
     "output_type": "stream",
     "text": [
      "Enter measurement(in feet): 576\n",
      "The eqivalent of 576.0feet, in inch,yard and mile is thus;\n",
      "Inch:6912.0\n",
      "Yard:191.81\n",
      "Mile:0.109\n"
     ]
    }
   ],
   "source": [
    "foot=float(input(\"Enter measurement(in feet): \"))\n",
    "inch=round(foot*12,2)\n",
    "yard=round(foot*0.333,2)\n",
    "mile=round(foot*0.000189,3)\n",
    "print(f\"The eqivalent of {foot}feet, in inch,yard and mile is thus;\\nInch:{inch}\\nYard:{yard}\\nMile:{mile}\")"
   ]
  },
  {
   "cell_type": "code",
   "execution_count": null,
   "id": "e4612f7e",
   "metadata": {},
   "outputs": [],
   "source": [
    "# Question 16"
   ]
  },
  {
   "cell_type": "code",
   "execution_count": 14,
   "id": "bf7fa89e",
   "metadata": {},
   "outputs": [],
   "source": [
    "import math as mth"
   ]
  },
  {
   "cell_type": "code",
   "execution_count": 19,
   "id": "b4bc388e",
   "metadata": {},
   "outputs": [
    {
     "name": "stdout",
     "output_type": "stream",
     "text": [
      "Enter Radius: 2\n",
      "Area of Circle: 12.57, with radius:2.0\n",
      "The volume of a sphere: 33.51, with radius:2.0\n"
     ]
    }
   ],
   "source": [
    "PI=mth.pi\n",
    "radius=float(input(\"Enter Radius: \"))\n",
    "area=round(PI*radius**2,2)\n",
    "volume=round(4/3*PI*radius**3,2)\n",
    "print(f\"Area of Circle: {area}, with radius:{radius}\\nThe volume of a sphere: {volume}, with radius:{radius}\")"
   ]
  },
  {
   "cell_type": "code",
   "execution_count": null,
   "id": "0639ff6e",
   "metadata": {},
   "outputs": [],
   "source": [
    "# Question 17"
   ]
  },
  {
   "cell_type": "code",
   "execution_count": 13,
   "id": "04d5cc11",
   "metadata": {},
   "outputs": [
    {
     "name": "stdout",
     "output_type": "stream",
     "text": [
      "Enter Mass(in grams): 1500\n",
      "Enter First temperature(in celsius): 55\n",
      "Enter Second Temperature(in celsius): 68\n",
      "Total amount of energy: 81627.0\n",
      "Cost of heating the water: 0.2\n"
     ]
    }
   ],
   "source": [
    "SPC=4.186 #Specific heat capacity of water\n",
    "mass=float(input(\"Enter Mass(in grams): \"))\n",
    "temp1=float(input(\"Enter First temperature(in celsius): \"))\n",
    "temp2=float(input(\"Enter Second Temperature(in celsius): \"))\n",
    "energy=mass*SPC*(temp2-temp1)\n",
    "electric_cost=round((energy/3600000)*8.9,2)\n",
    "print(f\"Total amount of energy: {energy}\\nCost of heating the water: ${electric_cost}\")"
   ]
  },
  {
   "cell_type": "code",
   "execution_count": null,
   "id": "615ddcf1",
   "metadata": {},
   "outputs": [],
   "source": [
    "# Question 18"
   ]
  },
  {
   "cell_type": "code",
   "execution_count": 3,
   "id": "3a4cb5ff",
   "metadata": {},
   "outputs": [],
   "source": [
    "import math as mth"
   ]
  },
  {
   "cell_type": "code",
   "execution_count": 8,
   "id": "bd5c0d19",
   "metadata": {},
   "outputs": [
    {
     "name": "stdout",
     "output_type": "stream",
     "text": [
      "Enter Radius of Cylinder: 3\n",
      "Enter Height of Cylinder: 5\n",
      "The Volume of the cylinder: 141.4\n"
     ]
    }
   ],
   "source": [
    "radius=float(input(\"Enter Radius of Cylinder: \"))\n",
    "height=float(input(\"Enter Height of Cylinder: \"))\n",
    "volume=round((mth.pi*radius**2*height),1)\n",
    "print(f\"The Volume of the cylinder: {volume}\")"
   ]
  },
  {
   "cell_type": "code",
   "execution_count": null,
   "id": "f24178f0",
   "metadata": {},
   "outputs": [],
   "source": []
  }
 ],
 "metadata": {
  "kernelspec": {
   "display_name": "Python 3 (ipykernel)",
   "language": "python",
   "name": "python3"
  },
  "language_info": {
   "codemirror_mode": {
    "name": "ipython",
    "version": 3
   },
   "file_extension": ".py",
   "mimetype": "text/x-python",
   "name": "python",
   "nbconvert_exporter": "python",
   "pygments_lexer": "ipython3",
   "version": "3.9.12"
  }
 },
 "nbformat": 4,
 "nbformat_minor": 5
}
